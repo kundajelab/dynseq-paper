{
 "cells": [
  {
   "cell_type": "markdown",
   "metadata": {},
   "source": [
    "# SPI1 bQTL Recreate\n",
    "\n",
    "Recreate rs5764238 SPI1 bQTL example for dynseq paper."
   ]
  },
  {
   "cell_type": "code",
   "execution_count": 1,
   "metadata": {},
   "outputs": [],
   "source": [
    "import tensorflow as tf\n",
    "import numpy as np\n",
    "import matplotlib.pyplot as plt\n",
    "import pandas as pd\n",
    "import pyfaidx\n",
    "from collections import Counter, defaultdict, OrderedDict\n",
    "from modisco.visualization import viz_sequence\n",
    "import logomaker\n",
    "from copy import deepcopy\n",
    "from tqdm import tqdm\n",
    "from matplotlib.patches import Rectangle\n",
    "import pyBigWig\n",
    "from deeplift.dinuc_shuffle import dinuc_shuffle\n",
    "\n",
    "import sys\n",
    "sys.path.append(\"../\")\n",
    "from utils.loss import multinomial_nll\n",
    "from utils import one_hot\n",
    "from utils.shap_utils import shuffle_several_times, combine_mult_and_diffref\n",
    "\n",
    "import shap\n",
    "import glob\n",
    "tf.compat.v1.disable_eager_execution()\n",
    "\n",
    "import scipy.stats\n",
    "from tensorflow import keras"
   ]
  },
  {
   "cell_type": "code",
   "execution_count": 2,
   "metadata": {},
   "outputs": [],
   "source": [
    "import os\n",
    "os.environ[\"CUDA_DEVICE_ORDER\"]=\"PCI_BUS_ID\"   # see issue #152\n",
    "os.environ[\"CUDA_VISIBLE_DEVICES\"]=\"1\""
   ]
  },
  {
   "cell_type": "code",
   "execution_count": 3,
   "metadata": {},
   "outputs": [],
   "source": [
    "def softmax(x, temp=1):\n",
    "    norm_x = x - np.mean(x,axis=1, keepdims=True)\n",
    "    return np.exp(temp*norm_x)/np.sum(np.exp(temp*norm_x), axis=1, keepdims=True)"
   ]
  },
  {
   "cell_type": "code",
   "execution_count": 4,
   "metadata": {},
   "outputs": [],
   "source": [
    "def get_profile(prof, cts):\n",
    "    return softmax(prof)*(np.exp(cts)-1)"
   ]
  },
  {
   "cell_type": "code",
   "execution_count": null,
   "metadata": {},
   "outputs": [],
   "source": []
  },
  {
   "cell_type": "code",
   "execution_count": 5,
   "metadata": {},
   "outputs": [],
   "source": [
    "with open(\"/users/surag/genomes/hg38/hg38.chrom.sizes\") as f:\n",
    "    chromsizes = [x.strip().split('\\t') for x in f]\n",
    "chromsizes = [(x[0], int(x[1])) for x in chromsizes if x]"
   ]
  },
  {
   "cell_type": "code",
   "execution_count": 6,
   "metadata": {},
   "outputs": [
    {
     "data": {
      "text/html": [
       "[('chr1', 248956422), ('chr2', 242193529)]"
      ],
      "text/plain": [
       "[('chr1', 248956422), ('chr2', 242193529)]"
      ]
     },
     "execution_count": 6,
     "metadata": {},
     "output_type": "execute_result"
    }
   ],
   "source": [
    "chromsizes[:2]"
   ]
  },
  {
   "cell_type": "markdown",
   "metadata": {},
   "source": [
    "## Load Models"
   ]
  },
  {
   "cell_type": "code",
   "execution_count": 7,
   "metadata": {},
   "outputs": [],
   "source": [
    "hg38 = pyfaidx.Fasta(\"/users/surag/genomes/hg38/GRCh38_no_alt_analysis_set_GCA_000001405.15.fasta\")"
   ]
  },
  {
   "cell_type": "code",
   "execution_count": 8,
   "metadata": {},
   "outputs": [],
   "source": [
    "with keras.utils.CustomObjectScope({'tf':tf}):\n",
    "    ATAC_model = keras.models.load_model(\"./models/GM12878_chrombpnet_wo_bias.h5\",\n",
    "                                        compile=False)"
   ]
  },
  {
   "cell_type": "code",
   "execution_count": 9,
   "metadata": {},
   "outputs": [
    {
     "data": {
      "text/plain": [
       "<tf.Tensor 'sequence:0' shape=(None, 2114, 4) dtype=float32>"
      ]
     },
     "execution_count": 9,
     "metadata": {},
     "output_type": "execute_result"
    }
   ],
   "source": [
    "ATAC_model.input"
   ]
  },
  {
   "cell_type": "code",
   "execution_count": 10,
   "metadata": {},
   "outputs": [
    {
     "data": {
      "text/html": [
       "[<tf.Tensor 'wo_bias_bpnet_logits_profile_predictions/Reshape:0' shape=(None, 1000) dtype=float32>, <tf.Tensor 'wo_bias_bpnet_logcount_predictions/BiasAdd:0' shape=(None, 1) dtype=float32>]"
      ],
      "text/plain": [
       "[<tf.Tensor 'wo_bias_bpnet_logits_profile_predictions/Reshape:0' shape=(None, 1000) dtype=float32>,\n",
       " <tf.Tensor 'wo_bias_bpnet_logcount_predictions/BiasAdd:0' shape=(None, 1) dtype=float32>]"
      ]
     },
     "execution_count": 10,
     "metadata": {},
     "output_type": "execute_result"
    }
   ],
   "source": [
    "ATAC_model.output"
   ]
  },
  {
   "cell_type": "code",
   "execution_count": 11,
   "metadata": {
    "scrolled": true
   },
   "outputs": [
    {
     "name": "stdout",
     "output_type": "stream",
     "text": [
      "WARNING:tensorflow:From /users/surag/anaconda3/envs/tf2/lib/python3.7/site-packages/shap/explainers/deep/deep_tf.py:140: The name tf.keras.backend.get_session is deprecated. Please use tf.compat.v1.keras.backend.get_session instead.\n",
      "\n",
      "Warning:  AddV2 used in model but handling of op is not specified by shap; will use original  gradients\n",
      "Warning:  AddV2 used in model but handling of op is not specified by shap; will use original  gradients\n",
      "Warning:  AddV2 used in model but handling of op is not specified by shap; will use original  gradients\n",
      "Warning:  AddV2 used in model but handling of op is not specified by shap; will use original  gradients\n",
      "Warning:  AddV2 used in model but handling of op is not specified by shap; will use original  gradients\n",
      "Warning:  AddV2 used in model but handling of op is not specified by shap; will use original  gradients\n",
      "Warning:  AddV2 used in model but handling of op is not specified by shap; will use original  gradients\n",
      "Warning:  AddV2 used in model but handling of op is not specified by shap; will use original  gradients\n",
      "Warning:  SpaceToBatchND used in model but handling of op is not specified by shap; will use original  gradients\n",
      "Warning:  BatchToSpaceND used in model but handling of op is not specified by shap; will use original  gradients\n",
      "Warning:  SpaceToBatchND used in model but handling of op is not specified by shap; will use original  gradients\n",
      "Warning:  BatchToSpaceND used in model but handling of op is not specified by shap; will use original  gradients\n",
      "Warning:  SpaceToBatchND used in model but handling of op is not specified by shap; will use original  gradients\n",
      "Warning:  BatchToSpaceND used in model but handling of op is not specified by shap; will use original  gradients\n",
      "Warning:  SpaceToBatchND used in model but handling of op is not specified by shap; will use original  gradients\n",
      "Warning:  BatchToSpaceND used in model but handling of op is not specified by shap; will use original  gradients\n",
      "Warning:  SpaceToBatchND used in model but handling of op is not specified by shap; will use original  gradients\n",
      "Warning:  BatchToSpaceND used in model but handling of op is not specified by shap; will use original  gradients\n",
      "Warning:  SpaceToBatchND used in model but handling of op is not specified by shap; will use original  gradients\n",
      "Warning:  BatchToSpaceND used in model but handling of op is not specified by shap; will use original  gradients\n",
      "Warning:  SpaceToBatchND used in model but handling of op is not specified by shap; will use original  gradients\n",
      "Warning:  BatchToSpaceND used in model but handling of op is not specified by shap; will use original  gradients\n",
      "Warning:  SpaceToBatchND used in model but handling of op is not specified by shap; will use original  gradients\n",
      "Warning:  BatchToSpaceND used in model but handling of op is not specified by shap; will use original  gradients\n"
     ]
    }
   ],
   "source": [
    "ATAC_cts_explainer = shap.explainers.deep.TFDeepExplainer(\n",
    "                (ATAC_model.input,\n",
    "                 tf.reduce_sum(ATAC_model.outputs[1], axis=-1)),\n",
    "                shuffle_several_times,\n",
    "                combine_mult_and_diffref=combine_mult_and_diffref)"
   ]
  },
  {
   "cell_type": "code",
   "execution_count": 12,
   "metadata": {},
   "outputs": [
    {
     "data": {
      "text/plain": [
       "2114"
      ]
     },
     "execution_count": 12,
     "metadata": {},
     "output_type": "execute_result"
    }
   ],
   "source": [
    "ATAC_INP_LEN = ATAC_model.input_shape[1]\n",
    "ATAC_INP_LEN"
   ]
  },
  {
   "cell_type": "code",
   "execution_count": 13,
   "metadata": {},
   "outputs": [
    {
     "data": {
      "text/plain": [
       "1000"
      ]
     },
     "execution_count": 13,
     "metadata": {},
     "output_type": "execute_result"
    }
   ],
   "source": [
    "ATAC_OUT_LEN = ATAC_model.output_shape[0][1]\n",
    "ATAC_OUT_LEN"
   ]
  },
  {
   "cell_type": "code",
   "execution_count": null,
   "metadata": {},
   "outputs": [],
   "source": []
  },
  {
   "cell_type": "code",
   "execution_count": 14,
   "metadata": {},
   "outputs": [],
   "source": [
    "with keras.utils.CustomObjectScope({'tf':tf}):\n",
    "    chip_model = keras.models.load_model(\"./models/ENCSR000BGQ_split000.h5\",\n",
    "                                        compile=False)"
   ]
  },
  {
   "cell_type": "code",
   "execution_count": 15,
   "metadata": {},
   "outputs": [
    {
     "data": {
      "text/html": [
       "[(None, 2114, 4), (None, 1000, 2), (None, 2)]"
      ],
      "text/plain": [
       "[(None, 2114, 4), (None, 1000, 2), (None, 2)]"
      ]
     },
     "execution_count": 15,
     "metadata": {},
     "output_type": "execute_result"
    }
   ],
   "source": [
    "chip_model.input_shape"
   ]
  },
  {
   "cell_type": "code",
   "execution_count": 16,
   "metadata": {},
   "outputs": [
    {
     "data": {
      "text/html": [
       "[<tf.Tensor 'profile_predictions/BiasAdd:0' shape=(None, 1000, 2) dtype=float32>, <tf.Tensor 'logcounts_predictions/BiasAdd:0' shape=(None, 2) dtype=float32>]"
      ],
      "text/plain": [
       "[<tf.Tensor 'profile_predictions/BiasAdd:0' shape=(None, 1000, 2) dtype=float32>,\n",
       " <tf.Tensor 'logcounts_predictions/BiasAdd:0' shape=(None, 2) dtype=float32>]"
      ]
     },
     "execution_count": 16,
     "metadata": {},
     "output_type": "execute_result"
    }
   ],
   "source": [
    "chip_model.output"
   ]
  },
  {
   "cell_type": "markdown",
   "metadata": {},
   "source": [
    "Change Line 202 in `deep/deep_tf.py` to \n",
    "\n",
    "`self._vinputs[op.name] = np.array([t.op in self.between_ops or t.name in [x.name for x in self.model_inputs] for t in op.inputs])`\n",
    "\n",
    "https://kundajelab.slack.com/archives/C02HU4HHR/p1637459153039900?thread_ts=1637127026.027600&cid=C02HU4HHR"
   ]
  },
  {
   "cell_type": "code",
   "execution_count": 17,
   "metadata": {
    "scrolled": true
   },
   "outputs": [
    {
     "name": "stdout",
     "output_type": "stream",
     "text": [
      "Warning:  AddV2 used in model but handling of op is not specified by shap; will use original  gradients\n",
      "Warning:  AddV2 used in model but handling of op is not specified by shap; will use original  gradients\n",
      "Warning:  AddV2 used in model but handling of op is not specified by shap; will use original  gradients\n",
      "Warning:  AddV2 used in model but handling of op is not specified by shap; will use original  gradients\n",
      "Warning:  AddV2 used in model but handling of op is not specified by shap; will use original  gradients\n",
      "Warning:  AddV2 used in model but handling of op is not specified by shap; will use original  gradients\n",
      "Warning:  AddV2 used in model but handling of op is not specified by shap; will use original  gradients\n",
      "Warning:  AddV2 used in model but handling of op is not specified by shap; will use original  gradients\n",
      "Warning:  If used in model but handling of op is not specified by shap; will use original  gradients\n",
      "Warning:  LeakyRelu used in model but handling of op is not specified by shap; will use original  gradients\n",
      "Warning:  If used in model but handling of op is not specified by shap; will use original  gradients\n",
      "Warning:  LeakyRelu used in model but handling of op is not specified by shap; will use original  gradients\n",
      "Warning:  SpaceToBatchND used in model but handling of op is not specified by shap; will use original  gradients\n",
      "Warning:  BatchToSpaceND used in model but handling of op is not specified by shap; will use original  gradients\n",
      "Warning:  SpaceToBatchND used in model but handling of op is not specified by shap; will use original  gradients\n",
      "Warning:  BatchToSpaceND used in model but handling of op is not specified by shap; will use original  gradients\n",
      "Warning:  SpaceToBatchND used in model but handling of op is not specified by shap; will use original  gradients\n",
      "Warning:  BatchToSpaceND used in model but handling of op is not specified by shap; will use original  gradients\n",
      "Warning:  SpaceToBatchND used in model but handling of op is not specified by shap; will use original  gradients\n",
      "Warning:  BatchToSpaceND used in model but handling of op is not specified by shap; will use original  gradients\n",
      "Warning:  SpaceToBatchND used in model but handling of op is not specified by shap; will use original  gradients\n",
      "Warning:  BatchToSpaceND used in model but handling of op is not specified by shap; will use original  gradients\n",
      "Warning:  SpaceToBatchND used in model but handling of op is not specified by shap; will use original  gradients\n",
      "Warning:  BatchToSpaceND used in model but handling of op is not specified by shap; will use original  gradients\n",
      "Warning:  SpaceToBatchND used in model but handling of op is not specified by shap; will use original  gradients\n",
      "Warning:  BatchToSpaceND used in model but handling of op is not specified by shap; will use original  gradients\n",
      "Warning:  SpaceToBatchND used in model but handling of op is not specified by shap; will use original  gradients\n",
      "Warning:  BatchToSpaceND used in model but handling of op is not specified by shap; will use original  gradients\n"
     ]
    }
   ],
   "source": [
    "chip_cts_explainer = shap.explainers.deep.TFDeepExplainer(\n",
    "                ([chip_model.input[0], chip_model.input[2]],\n",
    "                 tf.reduce_sum(chip_model.outputs[1], axis=-1)),\n",
    "                shuffle_several_times,\n",
    "                combine_mult_and_diffref=combine_mult_and_diffref)"
   ]
  },
  {
   "cell_type": "code",
   "execution_count": 18,
   "metadata": {},
   "outputs": [
    {
     "data": {
      "text/plain": [
       "2114"
      ]
     },
     "execution_count": 18,
     "metadata": {},
     "output_type": "execute_result"
    }
   ],
   "source": [
    "CHIP_INP_LEN = chip_model.input_shape[0][1]\n",
    "CHIP_INP_LEN"
   ]
  },
  {
   "cell_type": "code",
   "execution_count": 19,
   "metadata": {},
   "outputs": [
    {
     "data": {
      "text/plain": [
       "1000"
      ]
     },
     "execution_count": 19,
     "metadata": {},
     "output_type": "execute_result"
    }
   ],
   "source": [
    "CHIP_OUT_LEN = chip_model.output_shape[0][1]\n",
    "CHIP_OUT_LEN"
   ]
  },
  {
   "cell_type": "markdown",
   "metadata": {},
   "source": [
    "## Make bigwigs\n",
    "\n",
    "rs5764238 C>G"
   ]
  },
  {
   "cell_type": "code",
   "execution_count": 20,
   "metadata": {},
   "outputs": [],
   "source": [
    "CHR = \"chr22\"\n",
    "POS = 43720929"
   ]
  },
  {
   "cell_type": "code",
   "execution_count": null,
   "metadata": {},
   "outputs": [],
   "source": []
  },
  {
   "cell_type": "markdown",
   "metadata": {},
   "source": [
    "### ATAC"
   ]
  },
  {
   "cell_type": "code",
   "execution_count": 21,
   "metadata": {},
   "outputs": [],
   "source": [
    "ref_seq = one_hot.dna_to_one_hot([str(hg38[CHR][POS - ATAC_INP_LEN//2:POS + ATAC_INP_LEN//2])])\n",
    "alt_seq = ref_seq.copy()\n",
    "alt_seq[0, ATAC_INP_LEN//2:ATAC_INP_LEN//2+1] = [0,0,1,0]"
   ]
  },
  {
   "cell_type": "code",
   "execution_count": 22,
   "metadata": {},
   "outputs": [
    {
     "data": {
      "text/plain": [
       "(array([[0, 1, 0, 0]], dtype=int8), array([[0, 0, 1, 0]], dtype=int8))"
      ]
     },
     "execution_count": 22,
     "metadata": {},
     "output_type": "execute_result"
    }
   ],
   "source": [
    "ref_seq[0, ATAC_INP_LEN//2:ATAC_INP_LEN//2+1], alt_seq[0, ATAC_INP_LEN//2:ATAC_INP_LEN//2+1]"
   ]
  },
  {
   "cell_type": "code",
   "execution_count": 23,
   "metadata": {},
   "outputs": [
    {
     "data": {
      "text/plain": [
       ">chr22:43720929-43720931\n",
       "TCA"
      ]
     },
     "execution_count": 23,
     "metadata": {},
     "output_type": "execute_result"
    }
   ],
   "source": [
    "hg38[CHR][POS-1:POS+2]"
   ]
  },
  {
   "cell_type": "code",
   "execution_count": null,
   "metadata": {},
   "outputs": [],
   "source": []
  },
  {
   "cell_type": "code",
   "execution_count": 24,
   "metadata": {},
   "outputs": [
    {
     "name": "stderr",
     "output_type": "stream",
     "text": [
      "/users/surag/anaconda3/envs/tf2/lib/python3.7/site-packages/tensorflow/python/keras/engine/training.py:2424: UserWarning: `Model.state_updates` will be removed in a future version. This property should not be used in TensorFlow 2.0, as `updates` are applied automatically.\n",
      "  warnings.warn('`Model.state_updates` will be removed in a future version. '\n"
     ]
    }
   ],
   "source": [
    "ref_atac_prof, ref_atac_cts = ATAC_model.predict(ref_seq)\n",
    "alt_atac_prof, alt_atac_cts = ATAC_model.predict(alt_seq)"
   ]
  },
  {
   "cell_type": "code",
   "execution_count": 25,
   "metadata": {},
   "outputs": [
    {
     "data": {
      "text/plain": [
       "(array([[5.317294]], dtype=float32), array([[6.946728]], dtype=float32))"
      ]
     },
     "execution_count": 25,
     "metadata": {},
     "output_type": "execute_result"
    }
   ],
   "source": [
    "ref_atac_cts, alt_atac_cts"
   ]
  },
  {
   "cell_type": "code",
   "execution_count": null,
   "metadata": {},
   "outputs": [],
   "source": []
  },
  {
   "cell_type": "code",
   "execution_count": 26,
   "metadata": {},
   "outputs": [],
   "source": [
    "ref_counts_shap_scores = ATAC_cts_explainer.shap_values(ref_seq)\n",
    "ref_projected_shap_scores = np.multiply(ref_seq, ref_counts_shap_scores)\n",
    "\n",
    "alt_counts_shap_scores = ATAC_cts_explainer.shap_values(alt_seq)\n",
    "alt_projected_shap_scores = np.multiply(alt_seq, alt_counts_shap_scores)"
   ]
  },
  {
   "cell_type": "code",
   "execution_count": 27,
   "metadata": {},
   "outputs": [
    {
     "data": {
      "image/png": "[encoded data removed]",
      "text/plain": [
       "<Figure size 1080x432 with 2 Axes>"
      ]
     },
     "metadata": {
      "needs_background": "light"
     },
     "output_type": "display_data"
    }
   ],
   "source": [
    "WINDOW = 200\n",
    "SLICE_START = ATAC_INP_LEN//2 - WINDOW//2\n",
    "SLICE_END = ATAC_INP_LEN//2 + WINDOW//2\n",
    "\n",
    "fig, ax = plt.subplots(2, figsize=(15,6))\n",
    "\n",
    "logomaker.Logo(pd.DataFrame(ref_projected_shap_scores[0][SLICE_START:SLICE_END], columns=['A','C','G','T']),\n",
    "              ax=ax[0])\n",
    "logomaker.Logo(pd.DataFrame(alt_projected_shap_scores[0][SLICE_START:SLICE_END], columns=['A','C','G','T']),\n",
    "              ax=ax[1])\n",
    "\n",
    "l1,u1 = ax[0].get_ylim()\n",
    "l2,u2 = ax[1].get_ylim()\n",
    "ml1 = max(l1,l2)\n",
    "mu1 = max(u1,u2)\n",
    "ax[0].set_ylim((ml1,mu1))\n",
    "ax[1].set_ylim((ml1,mu1))\n",
    "\n",
    "plt.show()"
   ]
  },
  {
   "cell_type": "code",
   "execution_count": null,
   "metadata": {},
   "outputs": [],
   "source": []
  },
  {
   "cell_type": "code",
   "execution_count": 28,
   "metadata": {},
   "outputs": [],
   "source": [
    "f = pyBigWig.open(\"./bigwigs/ATAC_imp_ref.bw\", \"w\")\n",
    "f.addHeader(chromsizes)\n",
    "f.addEntries([CHR]*ATAC_INP_LEN, \n",
    "             list(range(POS-ATAC_INP_LEN//2, POS+ATAC_INP_LEN//2)),\n",
    "             list(range(POS-ATAC_INP_LEN//2+1, POS+ATAC_INP_LEN//2+1)),\n",
    "            ref_projected_shap_scores[0].sum(-1))\n",
    "f.close()"
   ]
  },
  {
   "cell_type": "code",
   "execution_count": 109,
   "metadata": {},
   "outputs": [],
   "source": [
    "f = pyBigWig.open(\"./bigwigs/ATAC_pred_ref.bw\", \"w\")\n",
    "f.addHeader(chromsizes)\n",
    "f.addEntries([CHR]*ATAC_OUT_LEN, \n",
    "             list(range(POS-ATAC_OUT_LEN//2, POS+ATAC_OUT_LEN//2)),\n",
    "             list(range(POS-ATAC_OUT_LEN//2+1, POS+ATAC_OUT_LEN//2+1)),\n",
    "            get_profile(ref_atac_prof, ref_atac_cts)[0])\n",
    "f.close()"
   ]
  },
  {
   "cell_type": "code",
   "execution_count": 110,
   "metadata": {},
   "outputs": [],
   "source": [
    "f = pyBigWig.open(\"./bigwigs/ATAC_imp_alt.bw\", \"w\")\n",
    "f.addHeader(chromsizes)\n",
    "f.addEntries([CHR]*ATAC_INP_LEN, \n",
    "             list(range(POS-ATAC_INP_LEN//2, POS+ATAC_INP_LEN//2)),\n",
    "             list(range(POS-ATAC_INP_LEN//2+1, POS+ATAC_INP_LEN//2+1)),\n",
    "            alt_projected_shap_scores[0].sum(-1))\n",
    "f.close()"
   ]
  },
  {
   "cell_type": "code",
   "execution_count": 111,
   "metadata": {},
   "outputs": [],
   "source": [
    "f = pyBigWig.open(\"./bigwigs/ATAC_pred_alt.bw\", \"w\")\n",
    "f.addHeader(chromsizes)\n",
    "f.addEntries([CHR]*ATAC_OUT_LEN, \n",
    "             list(range(POS-ATAC_OUT_LEN//2, POS+ATAC_OUT_LEN//2)),\n",
    "             list(range(POS-ATAC_OUT_LEN//2+1, POS+ATAC_OUT_LEN//2+1)),\n",
    "            get_profile(alt_atac_prof, alt_atac_cts)[0])\n",
    "f.close()"
   ]
  },
  {
   "cell_type": "code",
   "execution_count": null,
   "metadata": {},
   "outputs": [],
   "source": []
  },
  {
   "cell_type": "code",
   "execution_count": 80,
   "metadata": {},
   "outputs": [],
   "source": []
  },
  {
   "cell_type": "markdown",
   "metadata": {},
   "source": [
    "### ChIP"
   ]
  },
  {
   "cell_type": "code",
   "execution_count": 29,
   "metadata": {},
   "outputs": [
    {
     "data": {
      "text/html": [
       "[(None, 2114, 4), (None, 1000, 2), (None, 2)]"
      ],
      "text/plain": [
       "[(None, 2114, 4), (None, 1000, 2), (None, 2)]"
      ]
     },
     "execution_count": 29,
     "metadata": {},
     "output_type": "execute_result"
    }
   ],
   "source": [
    "chip_model.input_shape"
   ]
  },
  {
   "cell_type": "code",
   "execution_count": 30,
   "metadata": {},
   "outputs": [],
   "source": [
    "ref_chip_prof, ref_chip_cts = chip_model.predict([ref_seq, np.zeros((1, CHIP_OUT_LEN, 2)), np.zeros((1,2))])\n",
    "alt_chip_prof, alt_chip_cts = chip_model.predict([alt_seq, np.zeros((1, CHIP_OUT_LEN, 2)), np.zeros((1,2))])"
   ]
  },
  {
   "cell_type": "code",
   "execution_count": 31,
   "metadata": {},
   "outputs": [
    {
     "data": {
      "text/plain": [
       "(array([[0.36196354, 0.34503493]], dtype=float32),\n",
       " array([[1.5527686, 1.5147251]], dtype=float32))"
      ]
     },
     "execution_count": 31,
     "metadata": {},
     "output_type": "execute_result"
    }
   ],
   "source": [
    "ref_chip_cts, alt_chip_cts"
   ]
  },
  {
   "cell_type": "code",
   "execution_count": null,
   "metadata": {},
   "outputs": [],
   "source": []
  },
  {
   "cell_type": "code",
   "execution_count": 32,
   "metadata": {},
   "outputs": [],
   "source": [
    "ref_counts_shap_scores = chip_cts_explainer.shap_values([ref_seq, np.zeros((1,2))])\n",
    "ref_projected_shap_scores = np.multiply(ref_seq, ref_counts_shap_scores[0])\n",
    "\n",
    "alt_counts_shap_scores = chip_cts_explainer.shap_values([alt_seq, np.zeros((1,2))])\n",
    "alt_projected_shap_scores = np.multiply(alt_seq, alt_counts_shap_scores[0])"
   ]
  },
  {
   "cell_type": "code",
   "execution_count": null,
   "metadata": {},
   "outputs": [],
   "source": []
  },
  {
   "cell_type": "code",
   "execution_count": 33,
   "metadata": {},
   "outputs": [
    {
     "data": {
      "image/png": "[encoded data removed]",
      "text/plain": [
       "<Figure size 1080x432 with 2 Axes>"
      ]
     },
     "metadata": {
      "needs_background": "light"
     },
     "output_type": "display_data"
    }
   ],
   "source": [
    "WINDOW = 200\n",
    "SLICE_START = ATAC_INP_LEN//2 - WINDOW//2\n",
    "SLICE_END = ATAC_INP_LEN//2 + WINDOW//2\n",
    "\n",
    "fig, ax = plt.subplots(2, figsize=(15,6))\n",
    "\n",
    "logomaker.Logo(pd.DataFrame(ref_projected_shap_scores[0][SLICE_START:SLICE_END], columns=['A','C','G','T']),\n",
    "              ax=ax[0])\n",
    "logomaker.Logo(pd.DataFrame(alt_projected_shap_scores[0][SLICE_START:SLICE_END], columns=['A','C','G','T']),\n",
    "              ax=ax[1])\n",
    "\n",
    "l1,u1 = ax[0].get_ylim()\n",
    "l2,u2 = ax[1].get_ylim()\n",
    "ml1 = max(l1,l2)\n",
    "mu1 = max(u1,u2)\n",
    "ax[0].set_ylim((ml1,mu1))\n",
    "ax[1].set_ylim((ml1,mu1))\n",
    "\n",
    "plt.show()"
   ]
  },
  {
   "cell_type": "code",
   "execution_count": null,
   "metadata": {},
   "outputs": [],
   "source": []
  },
  {
   "cell_type": "code",
   "execution_count": null,
   "metadata": {},
   "outputs": [],
   "source": []
  },
  {
   "cell_type": "code",
   "execution_count": 34,
   "metadata": {},
   "outputs": [],
   "source": [
    "f = pyBigWig.open(\"./bigwigs/chip_imp_ref.bw\", \"w\")\n",
    "f.addHeader(chromsizes)\n",
    "f.addEntries([CHR]*CHIP_INP_LEN, \n",
    "             list(range(POS-CHIP_INP_LEN//2, POS+CHIP_INP_LEN//2)),\n",
    "             list(range(POS-CHIP_INP_LEN//2+1, POS+CHIP_INP_LEN//2+1)),\n",
    "            ref_projected_shap_scores[0].sum(-1))\n",
    "f.close()"
   ]
  },
  {
   "cell_type": "code",
   "execution_count": 51,
   "metadata": {},
   "outputs": [],
   "source": [
    "f = pyBigWig.open(\"./bigwigs/chip_pred_ref_plus.bw\", \"w\")\n",
    "f.addHeader(chromsizes)\n",
    "f.addEntries([CHR]*CHIP_OUT_LEN, \n",
    "             list(range(POS-CHIP_OUT_LEN//2, POS+CHIP_OUT_LEN//2)),\n",
    "             list(range(POS-CHIP_OUT_LEN//2+1, POS+CHIP_OUT_LEN//2+1)),\n",
    "            get_profile(ref_chip_prof, ref_chip_cts)[0][:,0])\n",
    "f.close()\n",
    "\n",
    "f = pyBigWig.open(\"./bigwigs/chip_pred_ref_minus.bw\", \"w\")\n",
    "f.addHeader(chromsizes)\n",
    "f.addEntries([CHR]*CHIP_OUT_LEN, \n",
    "             list(range(POS-CHIP_OUT_LEN//2, POS+CHIP_OUT_LEN//2)),\n",
    "             list(range(POS-CHIP_OUT_LEN//2+1, POS+CHIP_OUT_LEN//2+1)),\n",
    "            get_profile(ref_chip_prof, ref_chip_cts)[0][:,1])\n",
    "f.close()"
   ]
  },
  {
   "cell_type": "code",
   "execution_count": 52,
   "metadata": {},
   "outputs": [],
   "source": [
    "f = pyBigWig.open(\"./bigwigs/chip_imp_alt.bw\", \"w\")\n",
    "f.addHeader(chromsizes)\n",
    "f.addEntries([CHR]*CHIP_INP_LEN, \n",
    "             list(range(POS-CHIP_INP_LEN//2, POS+CHIP_INP_LEN//2)),\n",
    "             list(range(POS-CHIP_INP_LEN//2+1, POS+CHIP_INP_LEN//2+1)),\n",
    "            alt_projected_shap_scores[0].sum(-1))\n",
    "f.close()"
   ]
  },
  {
   "cell_type": "code",
   "execution_count": 53,
   "metadata": {},
   "outputs": [],
   "source": [
    "f = pyBigWig.open(\"./bigwigs/chip_pred_alt_plus.bw\", \"w\")\n",
    "f.addHeader(chromsizes)\n",
    "f.addEntries([CHR]*CHIP_OUT_LEN, \n",
    "             list(range(POS-CHIP_OUT_LEN//2, POS+CHIP_OUT_LEN//2)),\n",
    "             list(range(POS-CHIP_OUT_LEN//2+1, POS+CHIP_OUT_LEN//2+1)),\n",
    "            get_profile(alt_chip_prof, alt_chip_cts)[0][:,0])\n",
    "f.close()\n",
    "\n",
    "f = pyBigWig.open(\"./bigwigs/chip_pred_alt_minus.bw\", \"w\")\n",
    "f.addHeader(chromsizes)\n",
    "f.addEntries([CHR]*CHIP_OUT_LEN, \n",
    "             list(range(POS-CHIP_OUT_LEN//2, POS+CHIP_OUT_LEN//2)),\n",
    "             list(range(POS-CHIP_OUT_LEN//2+1, POS+CHIP_OUT_LEN//2+1)),\n",
    "            get_profile(alt_chip_prof, alt_chip_cts)[0][:,1])\n",
    "f.close()"
   ]
  },
  {
   "cell_type": "code",
   "execution_count": null,
   "metadata": {},
   "outputs": [],
   "source": []
  },
  {
   "cell_type": "code",
   "execution_count": null,
   "metadata": {},
   "outputs": [],
   "source": []
  }
 ],
 "metadata": {
  "kernelspec": {
   "display_name": "Python 3",
   "language": "python",
   "name": "python3"
  },
  "language_info": {
   "codemirror_mode": {
    "name": "ipython",
    "version": 3
   },
   "file_extension": ".py",
   "mimetype": "text/x-python",
   "name": "python",
   "nbconvert_exporter": "python",
   "pygments_lexer": "ipython3",
   "version": "3.7.8"
  }
 },
 "nbformat": 4,
 "nbformat_minor": 4
}
