{
 "cells": [
  {
   "cell_type": "markdown",
   "metadata": {},
   "source": [
    "# Beta Globin "
   ]
  },
  {
   "cell_type": "code",
   "execution_count": 1,
   "metadata": {},
   "outputs": [],
   "source": [
    "import tensorflow as tf\n",
    "import numpy as np\n",
    "import matplotlib.pyplot as plt\n",
    "import pandas as pd\n",
    "import pyfaidx\n",
    "from collections import Counter, defaultdict, OrderedDict\n",
    "from modisco.visualization import viz_sequence\n",
    "import logomaker\n",
    "from copy import deepcopy\n",
    "from tqdm import tqdm\n",
    "from matplotlib.patches import Rectangle\n",
    "import pyBigWig\n",
    "from deeplift.dinuc_shuffle import dinuc_shuffle\n",
    "\n",
    "import sys\n",
    "sys.path.append(\"/users/surag/kundajelab/retina-models/src/\")\n",
    "from utils.loss import multinomial_nll\n",
    "from utils import one_hot\n",
    "from utils.data_utils import load_test_data, get_seq, get_cts\n",
    "from utils.shap_utils import shuffle_several_times, combine_mult_and_diffref\n",
    "\n",
    "import shap\n",
    "import glob\n",
    "tf.compat.v1.disable_eager_execution()\n",
    "\n",
    "from metrics import softmax \n",
    "import scipy.stats\n",
    "from tensorflow import keras"
   ]
  },
  {
   "cell_type": "code",
   "execution_count": 2,
   "metadata": {},
   "outputs": [],
   "source": [
    "import os\n",
    "os.environ[\"CUDA_DEVICE_ORDER\"]=\"PCI_BUS_ID\"   # see issue #152\n",
    "os.environ[\"CUDA_VISIBLE_DEVICES\"]=\"1\""
   ]
  },
  {
   "cell_type": "code",
   "execution_count": 3,
   "metadata": {},
   "outputs": [],
   "source": [
    "def get_profile(prof, cts):\n",
    "    return softmax(prof)*(np.exp(cts)-1)"
   ]
  },
  {
   "cell_type": "code",
   "execution_count": null,
   "metadata": {},
   "outputs": [],
   "source": []
  },
  {
   "cell_type": "code",
   "execution_count": 4,
   "metadata": {},
   "outputs": [],
   "source": [
    "with open(\"/users/surag/genomes/hg38/hg38.chrom.sizes\") as f:\n",
    "    chromsizes = [x.strip().split('\\t') for x in f]\n",
    "chromsizes = [(x[0], int(x[1])) for x in chromsizes if x]"
   ]
  },
  {
   "cell_type": "code",
   "execution_count": 5,
   "metadata": {},
   "outputs": [
    {
     "data": {
      "text/html": [
       "[('chr1', 248956422), ('chr2', 242193529)]"
      ],
      "text/plain": [
       "[('chr1', 248956422), ('chr2', 242193529)]"
      ]
     },
     "execution_count": 5,
     "metadata": {},
     "output_type": "execute_result"
    }
   ],
   "source": [
    "chromsizes[:2]"
   ]
  },
  {
   "cell_type": "markdown",
   "metadata": {},
   "source": [
    "## Load Models"
   ]
  },
  {
   "cell_type": "code",
   "execution_count": 6,
   "metadata": {},
   "outputs": [],
   "source": [
    "hg38 = pyfaidx.Fasta(\"/users/surag/genomes/hg38/GRCh38_no_alt_analysis_set_GCA_000001405.15.fasta\")"
   ]
  },
  {
   "cell_type": "code",
   "execution_count": 9,
   "metadata": {},
   "outputs": [],
   "source": [
    "with keras.utils.CustomObjectScope({'tf':tf}):\n",
    "    ATAC_model = keras.models.load_model(\"./models/k562.dnase.with.bias.unplugged.0.hdf5\",\n",
    "                                        compile=False)"
   ]
  },
  {
   "cell_type": "code",
   "execution_count": 10,
   "metadata": {},
   "outputs": [
    {
     "data": {
      "text/plain": [
       "<tf.Tensor 'sequence:0' shape=(None, 1346, 4) dtype=float32>"
      ]
     },
     "execution_count": 10,
     "metadata": {},
     "output_type": "execute_result"
    }
   ],
   "source": [
    "ATAC_model.input"
   ]
  },
  {
   "cell_type": "code",
   "execution_count": 12,
   "metadata": {},
   "outputs": [
    {
     "data": {
      "text/html": [
       "[(None, 1000, 1), (None, 1)]"
      ],
      "text/plain": [
       "[(None, 1000, 1), (None, 1)]"
      ]
     },
     "execution_count": 12,
     "metadata": {},
     "output_type": "execute_result"
    }
   ],
   "source": [
    "ATAC_model.output_shape"
   ]
  },
  {
   "cell_type": "code",
   "execution_count": 13,
   "metadata": {
    "scrolled": true
   },
   "outputs": [
    {
     "name": "stdout",
     "output_type": "stream",
     "text": [
      "WARNING:tensorflow:From /users/surag/anaconda3/envs/tf2/lib/python3.7/site-packages/shap/explainers/deep/deep_tf.py:140: The name tf.keras.backend.get_session is deprecated. Please use tf.compat.v1.keras.backend.get_session instead.\n",
      "\n",
      "Warning:  SpaceToBatchND used in model but handling of op is not specified by shap; will use original  gradients\n",
      "Warning:  BatchToSpaceND used in model but handling of op is not specified by shap; will use original  gradients\n",
      "Warning:  AddV2 used in model but handling of op is not specified by shap; will use original  gradients\n",
      "Warning:  AddV2 used in model but handling of op is not specified by shap; will use original  gradients\n",
      "Warning:  AddV2 used in model but handling of op is not specified by shap; will use original  gradients\n",
      "Warning:  AddV2 used in model but handling of op is not specified by shap; will use original  gradients\n",
      "Warning:  AddV2 used in model but handling of op is not specified by shap; will use original  gradients\n",
      "Warning:  AddV2 used in model but handling of op is not specified by shap; will use original  gradients\n",
      "Warning:  AddV2 used in model but handling of op is not specified by shap; will use original  gradients\n",
      "Warning:  AddV2 used in model but handling of op is not specified by shap; will use original  gradients\n",
      "Warning:  AddV2 used in model but handling of op is not specified by shap; will use original  gradients\n",
      "Warning:  AddV2 used in model but handling of op is not specified by shap; will use original  gradients\n",
      "Warning:  AddV2 used in model but handling of op is not specified by shap; will use original  gradients\n",
      "Warning:  SpaceToBatchND used in model but handling of op is not specified by shap; will use original  gradients\n",
      "Warning:  BatchToSpaceND used in model but handling of op is not specified by shap; will use original  gradients\n",
      "Warning:  AddV2 used in model but handling of op is not specified by shap; will use original  gradients\n",
      "Warning:  AddV2 used in model but handling of op is not specified by shap; will use original  gradients\n",
      "Warning:  AddV2 used in model but handling of op is not specified by shap; will use original  gradients\n",
      "Warning:  AddV2 used in model but handling of op is not specified by shap; will use original  gradients\n",
      "Warning:  SpaceToBatchND used in model but handling of op is not specified by shap; will use original  gradients\n",
      "Warning:  BatchToSpaceND used in model but handling of op is not specified by shap; will use original  gradients\n",
      "Warning:  AddV2 used in model but handling of op is not specified by shap; will use original  gradients\n",
      "Warning:  AddV2 used in model but handling of op is not specified by shap; will use original  gradients\n",
      "Warning:  AddV2 used in model but handling of op is not specified by shap; will use original  gradients\n",
      "Warning:  SpaceToBatchND used in model but handling of op is not specified by shap; will use original  gradients\n",
      "Warning:  BatchToSpaceND used in model but handling of op is not specified by shap; will use original  gradients\n",
      "Warning:  AddV2 used in model but handling of op is not specified by shap; will use original  gradients\n",
      "Warning:  AddV2 used in model but handling of op is not specified by shap; will use original  gradients\n",
      "Warning:  SpaceToBatchND used in model but handling of op is not specified by shap; will use original  gradients\n",
      "Warning:  BatchToSpaceND used in model but handling of op is not specified by shap; will use original  gradients\n",
      "Warning:  AddV2 used in model but handling of op is not specified by shap; will use original  gradients\n",
      "Warning:  SpaceToBatchND used in model but handling of op is not specified by shap; will use original  gradients\n",
      "Warning:  BatchToSpaceND used in model but handling of op is not specified by shap; will use original  gradients\n"
     ]
    }
   ],
   "source": [
    "ATAC_cts_explainer = shap.explainers.deep.TFDeepExplainer(\n",
    "                (ATAC_model.input,\n",
    "                 tf.reduce_sum(ATAC_model.outputs[1], axis=-1)),\n",
    "                shuffle_several_times,\n",
    "                combine_mult_and_diffref=combine_mult_and_diffref)"
   ]
  },
  {
   "cell_type": "code",
   "execution_count": 14,
   "metadata": {},
   "outputs": [
    {
     "data": {
      "text/plain": [
       "1346"
      ]
     },
     "execution_count": 14,
     "metadata": {},
     "output_type": "execute_result"
    }
   ],
   "source": [
    "ATAC_INP_LEN = ATAC_model.input_shape[1]\n",
    "ATAC_INP_LEN"
   ]
  },
  {
   "cell_type": "code",
   "execution_count": 15,
   "metadata": {},
   "outputs": [
    {
     "data": {
      "text/plain": [
       "1000"
      ]
     },
     "execution_count": 15,
     "metadata": {},
     "output_type": "execute_result"
    }
   ],
   "source": [
    "ATAC_OUT_LEN = ATAC_model.output_shape[0][1]\n",
    "ATAC_OUT_LEN"
   ]
  },
  {
   "cell_type": "code",
   "execution_count": null,
   "metadata": {},
   "outputs": [],
   "source": []
  },
  {
   "cell_type": "code",
   "execution_count": 70,
   "metadata": {},
   "outputs": [],
   "source": [
    "with keras.utils.CustomObjectScope({'tf':tf}):\n",
    "    chip_model = keras.models.load_model(\"./models/NFE2.K562.ENCSR000FCC.h5\",\n",
    "                                        compile=False)"
   ]
  },
  {
   "cell_type": "code",
   "execution_count": 71,
   "metadata": {},
   "outputs": [
    {
     "data": {
      "text/html": [
       "[(None, 2114, 4), (None, 1), (None, 1000, 2)]"
      ],
      "text/plain": [
       "[(None, 2114, 4), (None, 1), (None, 1000, 2)]"
      ]
     },
     "execution_count": 71,
     "metadata": {},
     "output_type": "execute_result"
    }
   ],
   "source": [
    "chip_model.input_shape"
   ]
  },
  {
   "cell_type": "code",
   "execution_count": 72,
   "metadata": {},
   "outputs": [
    {
     "data": {
      "text/html": [
       "[(None, 1000, 2), (None, 2)]"
      ],
      "text/plain": [
       "[(None, 1000, 2), (None, 2)]"
      ]
     },
     "execution_count": 72,
     "metadata": {},
     "output_type": "execute_result"
    }
   ],
   "source": [
    "chip_model.output_shape"
   ]
  },
  {
   "cell_type": "markdown",
   "metadata": {},
   "source": [
    "Change Line 202 in `deep/deep_tf.py` to \n",
    "\n",
    "`self._vinputs[op.name] = np.array([t.op in self.between_ops or t.name in [x.name for x in self.model_inputs] for t in op.inputs])`\n",
    "\n",
    "https://kundajelab.slack.com/archives/C02HU4HHR/p1637459153039900?thread_ts=1637127026.027600&cid=C02HU4HHR"
   ]
  },
  {
   "cell_type": "code",
   "execution_count": 73,
   "metadata": {
    "scrolled": true
   },
   "outputs": [
    {
     "name": "stdout",
     "output_type": "stream",
     "text": [
      "Warning:  AddV2 used in model but handling of op is not specified by shap; will use original  gradients\n",
      "Warning:  SpaceToBatchND used in model but handling of op is not specified by shap; will use original  gradients\n",
      "Warning:  BatchToSpaceND used in model but handling of op is not specified by shap; will use original  gradients\n",
      "Warning:  AddV2 used in model but handling of op is not specified by shap; will use original  gradients\n",
      "Warning:  SpaceToBatchND used in model but handling of op is not specified by shap; will use original  gradients\n",
      "Warning:  BatchToSpaceND used in model but handling of op is not specified by shap; will use original  gradients\n",
      "Warning:  AddV2 used in model but handling of op is not specified by shap; will use original  gradients\n",
      "Warning:  SpaceToBatchND used in model but handling of op is not specified by shap; will use original  gradients\n",
      "Warning:  BatchToSpaceND used in model but handling of op is not specified by shap; will use original  gradients\n",
      "Warning:  AddV2 used in model but handling of op is not specified by shap; will use original  gradients\n",
      "Warning:  SpaceToBatchND used in model but handling of op is not specified by shap; will use original  gradients\n",
      "Warning:  BatchToSpaceND used in model but handling of op is not specified by shap; will use original  gradients\n",
      "Warning:  AddV2 used in model but handling of op is not specified by shap; will use original  gradients\n",
      "Warning:  AddV2 used in model but handling of op is not specified by shap; will use original  gradients\n",
      "Warning:  SpaceToBatchND used in model but handling of op is not specified by shap; will use original  gradients\n",
      "Warning:  BatchToSpaceND used in model but handling of op is not specified by shap; will use original  gradients\n",
      "Warning:  AddV2 used in model but handling of op is not specified by shap; will use original  gradients\n",
      "Warning:  SpaceToBatchND used in model but handling of op is not specified by shap; will use original  gradients\n",
      "Warning:  BatchToSpaceND used in model but handling of op is not specified by shap; will use original  gradients\n",
      "Warning:  AddV2 used in model but handling of op is not specified by shap; will use original  gradients\n",
      "Warning:  SpaceToBatchND used in model but handling of op is not specified by shap; will use original  gradients\n",
      "Warning:  BatchToSpaceND used in model but handling of op is not specified by shap; will use original  gradients\n",
      "Warning:  SpaceToBatchND used in model but handling of op is not specified by shap; will use original  gradients\n",
      "Warning:  BatchToSpaceND used in model but handling of op is not specified by shap; will use original  gradients\n"
     ]
    }
   ],
   "source": [
    "chip_cts_explainer = shap.explainers.deep.TFDeepExplainer(\n",
    "                ([chip_model.input[0], chip_model.input[1]],\n",
    "                 tf.reduce_sum(chip_model.outputs[1], axis=-1)),\n",
    "                shuffle_several_times,\n",
    "                combine_mult_and_diffref=combine_mult_and_diffref)"
   ]
  },
  {
   "cell_type": "code",
   "execution_count": 74,
   "metadata": {},
   "outputs": [
    {
     "data": {
      "text/plain": [
       "2114"
      ]
     },
     "execution_count": 74,
     "metadata": {},
     "output_type": "execute_result"
    }
   ],
   "source": [
    "CHIP_INP_LEN = chip_model.input_shape[0][1]\n",
    "CHIP_INP_LEN"
   ]
  },
  {
   "cell_type": "code",
   "execution_count": 75,
   "metadata": {},
   "outputs": [
    {
     "data": {
      "text/plain": [
       "1000"
      ]
     },
     "execution_count": 75,
     "metadata": {},
     "output_type": "execute_result"
    }
   ],
   "source": [
    "CHIP_OUT_LEN = chip_model.output_shape[0][1]\n",
    "CHIP_OUT_LEN"
   ]
  },
  {
   "cell_type": "markdown",
   "metadata": {},
   "source": [
    "## Make bigwigs\n",
    "\n",
    "rs5764238 C>G"
   ]
  },
  {
   "cell_type": "code",
   "execution_count": 36,
   "metadata": {},
   "outputs": [],
   "source": [
    "CHR = \"chr11\"\n",
    "POS = 5280750"
   ]
  },
  {
   "cell_type": "code",
   "execution_count": null,
   "metadata": {},
   "outputs": [],
   "source": []
  },
  {
   "cell_type": "markdown",
   "metadata": {},
   "source": [
    "### ATAC"
   ]
  },
  {
   "cell_type": "code",
   "execution_count": 37,
   "metadata": {},
   "outputs": [],
   "source": [
    "ref_seq = one_hot.dna_to_one_hot([str(hg38[CHR][POS - ATAC_INP_LEN//2:POS + ATAC_INP_LEN//2])])"
   ]
  },
  {
   "cell_type": "code",
   "execution_count": null,
   "metadata": {},
   "outputs": [],
   "source": []
  },
  {
   "cell_type": "code",
   "execution_count": 38,
   "metadata": {},
   "outputs": [],
   "source": [
    "ref_atac_prof, ref_atac_cts = ATAC_model.predict(ref_seq)"
   ]
  },
  {
   "cell_type": "code",
   "execution_count": 39,
   "metadata": {},
   "outputs": [
    {
     "data": {
      "text/plain": [
       "array([[7.8014727]], dtype=float32)"
      ]
     },
     "execution_count": 39,
     "metadata": {},
     "output_type": "execute_result"
    }
   ],
   "source": [
    "ref_atac_cts"
   ]
  },
  {
   "cell_type": "code",
   "execution_count": null,
   "metadata": {},
   "outputs": [],
   "source": []
  },
  {
   "cell_type": "code",
   "execution_count": 42,
   "metadata": {},
   "outputs": [],
   "source": [
    "ref_counts_shap_scores = ATAC_cts_explainer.shap_values(ref_seq)\n",
    "ref_projected_shap_scores = np.multiply(ref_seq, ref_counts_shap_scores)"
   ]
  },
  {
   "cell_type": "code",
   "execution_count": 43,
   "metadata": {},
   "outputs": [
    {
     "data": {
      "image/png": "[encoded data removed]",
      "text/plain": [
       "<Figure size 1080x72 with 1 Axes>"
      ]
     },
     "metadata": {
      "needs_background": "light"
     },
     "output_type": "display_data"
    }
   ],
   "source": [
    "WINDOW = 300\n",
    "SLICE_START = ATAC_INP_LEN//2 - WINDOW//2\n",
    "SLICE_END = ATAC_INP_LEN//2 + WINDOW//2\n",
    "\n",
    "fig, ax = plt.subplots(1, figsize=(15,1))\n",
    "\n",
    "logomaker.Logo(pd.DataFrame(ref_projected_shap_scores[0][SLICE_START:SLICE_END], columns=['A','C','G','T']),\n",
    "              ax=ax)\n",
    "\n",
    "plt.show()"
   ]
  },
  {
   "cell_type": "code",
   "execution_count": null,
   "metadata": {},
   "outputs": [],
   "source": []
  },
  {
   "cell_type": "code",
   "execution_count": null,
   "metadata": {},
   "outputs": [],
   "source": []
  },
  {
   "cell_type": "code",
   "execution_count": 44,
   "metadata": {},
   "outputs": [],
   "source": [
    "f = pyBigWig.open(\"./bigwigs/ATAC_imp.bw\", \"w\")\n",
    "f.addHeader(chromsizes)\n",
    "f.addEntries([CHR]*ATAC_INP_LEN, \n",
    "             list(range(POS-ATAC_INP_LEN//2, POS+ATAC_INP_LEN//2)),\n",
    "             list(range(POS-ATAC_INP_LEN//2+1, POS+ATAC_INP_LEN//2+1)),\n",
    "            ref_projected_shap_scores[0].sum(-1))\n",
    "f.close()"
   ]
  },
  {
   "cell_type": "code",
   "execution_count": 45,
   "metadata": {},
   "outputs": [],
   "source": [
    "f = pyBigWig.open(\"./bigwigs/ATAC_pred.bw\", \"w\")\n",
    "f.addHeader(chromsizes)\n",
    "f.addEntries([CHR]*ATAC_OUT_LEN, \n",
    "             list(range(POS-ATAC_OUT_LEN//2, POS+ATAC_OUT_LEN//2)),\n",
    "             list(range(POS-ATAC_OUT_LEN//2+1, POS+ATAC_OUT_LEN//2+1)),\n",
    "            get_profile(ref_atac_prof, ref_atac_cts)[0])\n",
    "f.close()"
   ]
  },
  {
   "cell_type": "code",
   "execution_count": null,
   "metadata": {},
   "outputs": [],
   "source": []
  },
  {
   "cell_type": "code",
   "execution_count": 80,
   "metadata": {},
   "outputs": [],
   "source": []
  },
  {
   "cell_type": "markdown",
   "metadata": {},
   "source": [
    "### ChIP"
   ]
  },
  {
   "cell_type": "code",
   "execution_count": 52,
   "metadata": {},
   "outputs": [
    {
     "data": {
      "text/html": [
       "[(None, 2114, 4), (None, 1), (None, 1000, 2)]"
      ],
      "text/plain": [
       "[(None, 2114, 4), (None, 1), (None, 1000, 2)]"
      ]
     },
     "execution_count": 52,
     "metadata": {},
     "output_type": "execute_result"
    }
   ],
   "source": [
    "chip_model.input_shape"
   ]
  },
  {
   "cell_type": "code",
   "execution_count": 55,
   "metadata": {},
   "outputs": [],
   "source": [
    "ref_seq_chip = one_hot.dna_to_one_hot([str(hg38[CHR][POS - CHIP_INP_LEN//2:POS + CHIP_INP_LEN//2])])"
   ]
  },
  {
   "cell_type": "code",
   "execution_count": 76,
   "metadata": {},
   "outputs": [
    {
     "name": "stderr",
     "output_type": "stream",
     "text": [
      "/users/surag/anaconda3/envs/tf2/lib/python3.7/site-packages/tensorflow/python/keras/engine/training.py:2424: UserWarning: `Model.state_updates` will be removed in a future version. This property should not be used in TensorFlow 2.0, as `updates` are applied automatically.\n",
      "  warnings.warn('`Model.state_updates` will be removed in a future version. '\n"
     ]
    }
   ],
   "source": [
    "ref_chip_prof, ref_chip_cts = chip_model.predict([ref_seq_chip, np.zeros((1,1)), np.zeros((1, CHIP_OUT_LEN, 2))])"
   ]
  },
  {
   "cell_type": "code",
   "execution_count": 77,
   "metadata": {},
   "outputs": [
    {
     "data": {
      "text/plain": [
       "array([[1.194863 , 1.2222958]], dtype=float32)"
      ]
     },
     "execution_count": 77,
     "metadata": {},
     "output_type": "execute_result"
    }
   ],
   "source": [
    "ref_chip_cts"
   ]
  },
  {
   "cell_type": "code",
   "execution_count": null,
   "metadata": {},
   "outputs": [],
   "source": []
  },
  {
   "cell_type": "code",
   "execution_count": 78,
   "metadata": {},
   "outputs": [],
   "source": [
    "ref_counts_shap_scores = chip_cts_explainer.shap_values([ref_seq_chip, np.zeros((1,1))])\n",
    "ref_projected_shap_scores = np.multiply(ref_seq_chip, ref_counts_shap_scores[0])"
   ]
  },
  {
   "cell_type": "code",
   "execution_count": null,
   "metadata": {},
   "outputs": [],
   "source": []
  },
  {
   "cell_type": "code",
   "execution_count": 79,
   "metadata": {},
   "outputs": [
    {
     "data": {
      "image/png": "[encoded data removed]",
      "text/plain": [
       "<Figure size 1080x72 with 1 Axes>"
      ]
     },
     "metadata": {
      "needs_background": "light"
     },
     "output_type": "display_data"
    }
   ],
   "source": [
    "WINDOW = 300\n",
    "SLICE_START = CHIP_INP_LEN//2 - WINDOW//2\n",
    "SLICE_END = CHIP_INP_LEN//2 + WINDOW//2\n",
    "\n",
    "fig, ax = plt.subplots(1, figsize=(15,1))\n",
    "\n",
    "logomaker.Logo(pd.DataFrame(ref_projected_shap_scores[0][SLICE_START:SLICE_END], columns=['A','C','G','T']),\n",
    "              ax=ax)\n",
    "\n",
    "plt.show()"
   ]
  },
  {
   "cell_type": "code",
   "execution_count": null,
   "metadata": {},
   "outputs": [],
   "source": []
  },
  {
   "cell_type": "code",
   "execution_count": null,
   "metadata": {},
   "outputs": [],
   "source": []
  },
  {
   "cell_type": "code",
   "execution_count": 80,
   "metadata": {},
   "outputs": [],
   "source": [
    "f = pyBigWig.open(\"./bigwigs/chip_imp.bw\", \"w\")\n",
    "f.addHeader(chromsizes)\n",
    "f.addEntries([CHR]*CHIP_INP_LEN, \n",
    "             list(range(POS-CHIP_INP_LEN//2, POS+CHIP_INP_LEN//2)),\n",
    "             list(range(POS-CHIP_INP_LEN//2+1, POS+CHIP_INP_LEN//2+1)),\n",
    "            ref_projected_shap_scores[0].sum(-1))\n",
    "f.close()"
   ]
  },
  {
   "cell_type": "code",
   "execution_count": 81,
   "metadata": {},
   "outputs": [],
   "source": [
    "f = pyBigWig.open(\"./bigwigs/chip_pred_plus.bw\", \"w\")\n",
    "f.addHeader(chromsizes)\n",
    "f.addEntries([CHR]*CHIP_OUT_LEN, \n",
    "             list(range(POS-CHIP_OUT_LEN//2, POS+CHIP_OUT_LEN//2)),\n",
    "             list(range(POS-CHIP_OUT_LEN//2+1, POS+CHIP_OUT_LEN//2+1)),\n",
    "            get_profile(ref_chip_prof, ref_chip_cts)[0][:,0])\n",
    "f.close()\n",
    "\n",
    "f = pyBigWig.open(\"./bigwigs/chip_pred_minus.bw\", \"w\")\n",
    "f.addHeader(chromsizes)\n",
    "f.addEntries([CHR]*CHIP_OUT_LEN, \n",
    "             list(range(POS-CHIP_OUT_LEN//2, POS+CHIP_OUT_LEN//2)),\n",
    "             list(range(POS-CHIP_OUT_LEN//2+1, POS+CHIP_OUT_LEN//2+1)),\n",
    "            get_profile(ref_chip_prof, ref_chip_cts)[0][:,1])\n",
    "f.close()"
   ]
  },
  {
   "cell_type": "code",
   "execution_count": null,
   "metadata": {},
   "outputs": [],
   "source": []
  },
  {
   "cell_type": "code",
   "execution_count": null,
   "metadata": {},
   "outputs": [],
   "source": []
  }
 ],
 "metadata": {
  "kernelspec": {
   "display_name": "Python 3",
   "language": "python",
   "name": "python3"
  },
  "language_info": {
   "codemirror_mode": {
    "name": "ipython",
    "version": 3
   },
   "file_extension": ".py",
   "mimetype": "text/x-python",
   "name": "python",
   "nbconvert_exporter": "python",
   "pygments_lexer": "ipython3",
   "version": "3.7.8"
  }
 },
 "nbformat": 4,
 "nbformat_minor": 4
}
